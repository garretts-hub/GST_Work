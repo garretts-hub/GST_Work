{
 "cells": [
  {
   "cell_type": "markdown",
   "metadata": {},
   "source": [
    "# Fresh & Inspired MLE"
   ]
  },
  {
   "cell_type": "markdown",
   "metadata": {},
   "source": [
    "This notebook will attempt to further and implement the log-likelihood MLE introduced in section 4.1.4 of Prof. Chuang's Quantum Drum paper, but for my drift model.\n",
    "\n",
    "Starting with\n",
    "    \n",
    "$$p_{1} (t) = 0.5 + a sin(2\\pi f t + \\phi )$$\n",
    "$$p_{0} (t) = 1 - p_{1} (t) = 0.5 - a sin(2\\pi f t + \\phi )$$\n",
    "\n",
    "These give us the following log-likelihood (LL) function for N-data points $(t_{i}, y_{i})$, each with probability $p_{i}$:\n",
    "$$LL = -\\Sigma_{i}^{N}log(p_{i})$$\n",
    "$$ = -\\Sigma_{i}^{N}log[(1-y_{i})p_{0}(t_{i}) + y_{i} p_{1}(t_{i})]$$\n",
    "$$ = -\\Sigma_{i}^{N}log[(1-y_{i})(0.5 - a sin(2\\pi f t + \\phi )) + y_{i} p_{1}(0.5 + a sin(2\\pi f t + \\phi ))]$$\n",
    "\n",
    "Alternatively, the new loss function defined today was:\n",
    "$$loss = -\\Sigma_{k}p_{k} = (\\frac{N_{0}}{N}p_{0} + \\frac{N_{1}}{N}p_{1})N$$\n",
    "for possible outcomes k, which are 0 or 1. This can be written as the following integral for large N:\n",
    "\n",
    "$$ loss = -\\int_{t=0}^{T} [p_{0}^X(t)p_{0}(t) - p_{1}^X(t)p_{1}(t) \\mathrm{d}t$$\n",
    "$$ = -\\int_{0}^{T} (0.5 - X \\sin{2\\pi Z t + W})(0.5 - a \\sin{2\\pi f t + \\phi }) + (0.5 + X \\sin{2\\pi Z t + W})(0.5 + a \\sin{2\\pi f t + \\phi })] \\mathrm{d}t$$\n",
    "\n",
    "where $X$, $Z$, and $W$ are the pseudo-parameters from the data that must be fit to the actual parameters of the model, $a$, $f$, and $\\phi$."
   ]
  },
  {
   "cell_type": "code",
   "execution_count": null,
   "metadata": {},
   "outputs": [],
   "source": []
  }
 ],
 "metadata": {
  "kernelspec": {
   "display_name": "Python 3",
   "language": "python",
   "name": "python3"
  },
  "language_info": {
   "codemirror_mode": {
    "name": "ipython",
    "version": 3
   },
   "file_extension": ".py",
   "mimetype": "text/x-python",
   "name": "python",
   "nbconvert_exporter": "python",
   "pygments_lexer": "ipython3",
   "version": "3.6.5"
  }
 },
 "nbformat": 4,
 "nbformat_minor": 2
}
